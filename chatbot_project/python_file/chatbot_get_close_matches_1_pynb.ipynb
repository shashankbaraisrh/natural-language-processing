{
  "cells": [
    {
      "cell_type": "code",
      "execution_count": null,
      "metadata": {
        "id": "a82JWQ3VKgl-"
      },
      "outputs": [],
      "source": [
        "#Flow of the whole code and steps\n",
        "# Importing necessary modules\n",
        "# Defining functions to load, save knowledge base, find best match, get answer for question, and implement chat bot\n",
        "# Main function to execute chat bot\n",
        "# Inside chat_bot function: Load knowledge base from JSON file\n",
        "# Start loop for continuous interaction with user\n",
        "# Prompt user for input\n",
        "# If user inputs \"quit\", exit loop and end program\n",
        "# Otherwise, find best match for user input in knowledge base\n",
        "# If match found, retrieve answer from knowledge base and print it\n",
        "# If no match found, prompt user to provide new answer\n",
        "# Update knowledge base with new question-answer pair\n",
        "# End of loop\n",
        "# End of chat_bot function\n",
        "# Execute main function to start chat bot\n",
        "\n",
        "import json\n",
        "from difflib import get_close_matches"
      ]
    },
    {
      "cell_type": "code",
      "execution_count": null,
      "metadata": {
        "id": "7PPNSQesKgmA"
      },
      "outputs": [],
      "source": [
        "# load_knowledge base from a json file\n",
        "def load_knowledge_base(file_path: str) -> dict:\n",
        "    with open(file_path,'r') as file:\n",
        "        data: dict = json.load(file)\n",
        "        return data\n",
        "\n"
      ]
    },
    {
      "cell_type": "code",
      "execution_count": null,
      "metadata": {
        "id": "cPH7jxRFKgmA"
      },
      "outputs": [],
      "source": [
        "def save_knowledge_base(file_path: str, data: dict):\n",
        "    with open(file_path, 'w') as file:\n",
        "        json.dump(data, file, indent=2)"
      ]
    },
    {
      "cell_type": "code",
      "execution_count": null,
      "metadata": {
        "id": "uZ74oemAKgmB"
      },
      "outputs": [],
      "source": [
        "def find_best_match(user_question: str, questions: list[str]) -> str | None:\n",
        "    matches: list = get_close_matches(user_question, questions, n=1, cutoff=0.6)\n",
        "    return matches[0] if matches else None"
      ]
    },
    {
      "cell_type": "code",
      "execution_count": null,
      "metadata": {
        "id": "cUi9LHQEKgmB"
      },
      "outputs": [],
      "source": [
        "def get_answer_for_question(question: str, knowldege_base: dict)-> str | None:\n",
        "    for q in knowldege_base[\"questions\"]:\n",
        "        if q[\"question\"]==question:\n",
        "            return q[\"answer\"]\n"
      ]
    },
    {
      "cell_type": "code",
      "execution_count": null,
      "metadata": {
        "colab": {
          "base_uri": "https://localhost:8080/"
        },
        "id": "FGdZxwCgKgmC",
        "outputId": "821cb641-4f89-48d0-c92a-037e9865c933"
      },
      "outputs": [
        {
          "output_type": "stream",
          "name": "stdout",
          "text": [
            "You: hello\n",
            "Bot: I don't know the answer. Can you teach me?\n",
            "Type the answer or \"skip\" to skip: hey there\n",
            "Bot: Thank you! I learned a new response!\n",
            "You: how can i register for the examination\n",
            "Bot: Students must register themselves for re-examinations and can find the registration form and deadline on the Moodle site.\n",
            "You: what are the component of master examination\n",
            "Bot: The master examination consists of module and sub-module examinations, as well as coursework credits.\n",
            "You: how can you help me?\n",
            "Bot: I don't know the answer. Can you teach me?\n",
            "Type the answer or \"skip\" to skip: I can help you with information related to srh university examination , internship, and other general information\n",
            "Bot: Thank you! I learned a new response!\n",
            "You: how can you help me\n",
            "Bot: I can help you with information related to srh university examination , internship, and other general information\n",
            "You: i just wanted to know, what minumum grade is required to pass the examination\n",
            "Bot: I don't know the answer. Can you teach me?\n",
            "Type the answer or \"skip\" to skip: \"A minimum grade of at least 4.0 is required on each module to pass an examination\n",
            "Bot: Thank you! I learned a new response!\n",
            "You: how can i apply for internship\n",
            "Bot: I don't know the answer. Can you teach me?\n",
            "Type the answer or \"skip\" to skip: you can contact internship office at university\n",
            "Bot: Thank you! I learned a new response!\n",
            "You: how can i de register from examination\n",
            "Bot: Students must register themselves for re-examinations and can find the registration form and deadline on the Moodle site.\n",
            "You: What is the rule of the repeat examination?\n",
            "Bot: The purpose of the repeat examination is to provide students with an opportunity to improve their grades if they have failed an examination.\n",
            "You: where can i find my grades\n",
            "Bot: I don't know the answer. Can you teach me?\n",
            "Type the answer or \"skip\" to skip: Examination grades are communicated to students through the campus portal and CampusNet.\n",
            "Bot: Thank you! I learned a new response!\n",
            "You: Can examinations that have already been passed be repeated?\n",
            "Bot: No, examinations that have already been passed cannot be repeated.\n",
            "You: Is it possible to de-register from re-examinations\n",
            "Bot: As a rule, it is not possible to withdraw from an examination, and any unexcused absence will result in automatic failure.\n",
            "You: What is the required documentation for illness-related absence before the exam\n",
            "Bot: The required documentation is a 'Prüfungsunfähigkeitsbescheinigung' (certificate of inability to take part in the examination), filled out by a doctor.\n",
            "You: how are you\n",
            "Bot: I don't know the answer. Can you teach me?\n",
            "Type the answer or \"skip\" to skip: I am doing good, thank you what about you?\n",
            "Bot: Thank you! I learned a new response!\n",
            "You: What is the consequence of missing an exam without excuse\n",
            "Bot: Missing an exam without a written excuse will result in automatic failure.\n",
            "You: hello\n",
            "Bot: hey there\n",
            "You: how are you\n",
            "Bot: I am doing good, thank you what about you?\n",
            "You: What is the range for a 'Good' performance grade?\n",
            "Bot: A 'Good' performance grade ranges from 1.6 to 2.5.\n",
            "You: how can student use their mails\n",
            "Bot: Students can access their emails by logging in to the campus web portal using their matriculation number followed by @stud.hochschule-heidelberg.de and the standard password.\n"
          ]
        }
      ],
      "source": [
        "def chat_bot():\n",
        "    # Update the path to the knowledge base JSON file\n",
        "    knowledge_base_path = r\"/content/knowldege_base (2).json\"\n",
        "    knowledge_base = load_knowledge_base(knowledge_base_path)\n",
        "\n",
        "    while True:\n",
        "        user_input: str = input('You: ')\n",
        "\n",
        "        if user_input.lower() == 'quit':\n",
        "            break\n",
        "\n",
        "        best_match: str | None = find_best_match(user_input, [q[\"question\"] for q in knowledge_base[\"questions\"]])\n",
        "\n",
        "        if best_match:\n",
        "            answer: str = get_answer_for_question(best_match, knowledge_base)\n",
        "            print(f'Bot: {answer}')\n",
        "        else:\n",
        "            print('Bot: I don\\'t know the answer. Can you teach me?')\n",
        "            new_answer: str = input('Type the answer or \"skip\" to skip: ')\n",
        "\n",
        "            if new_answer.lower() != 'skip':\n",
        "                knowledge_base[\"questions\"].append({\"question\": user_input, \"answer\": new_answer})\n",
        "                save_knowledge_base('knowledge_base.json', knowledge_base)\n",
        "                print('Bot: Thank you! I learned a new response!')\n",
        "\n",
        "if __name__ == '__main__':\n",
        "    chat_bot()\n"
      ]
    },
    {
      "cell_type": "code",
      "execution_count": null,
      "metadata": {
        "id": "CvlYNo7-KgmD"
      },
      "outputs": [],
      "source": []
    }
  ],
  "metadata": {
    "kernelspec": {
      "display_name": "Python 3",
      "language": "python",
      "name": "python3"
    },
    "language_info": {
      "codemirror_mode": {
        "name": "ipython",
        "version": 3
      },
      "file_extension": ".py",
      "mimetype": "text/x-python",
      "name": "python",
      "nbconvert_exporter": "python",
      "pygments_lexer": "ipython3",
      "version": "3.12.1"
    },
    "colab": {
      "provenance": []
    }
  },
  "nbformat": 4,
  "nbformat_minor": 0
}